{
  "nbformat": 4,
  "nbformat_minor": 0,
  "metadata": {
    "colab": {
      "name": "assignment sequential programs.ipynb",
      "provenance": []
    },
    "kernelspec": {
      "name": "python3",
      "display_name": "Python 3"
    },
    "language_info": {
      "name": "python"
    }
  },
  "cells": [
    {
      "cell_type": "markdown",
      "source": [
        "**Program to print the average of three numbers**\n"
      ],
      "metadata": {
        "id": "OoRoTh6EcBhu"
      }
    },
    {
      "cell_type": "code",
      "source": [
        "a=int(input(\"Enter first numbers : \"))\n",
        "b=int(input(\"Enter second number : \"))\n",
        "c=int(input(\"Enter third number  : \"))\n",
        "avg=(a+b+c)/3\n",
        "print(\"Average is\",avg)"
      ],
      "metadata": {
        "colab": {
          "base_uri": "https://localhost:8080/"
        },
        "id": "ZhurvkmVcbr-",
        "outputId": "35d60741-9d87-4ac6-de60-e4a3fd4689da"
      },
      "execution_count": 14,
      "outputs": [
        {
          "output_type": "stream",
          "name": "stdout",
          "text": [
            "Enter first numbers : 5\n",
            "Enter second number : 6\n",
            "Enter third number  : 5\n",
            "Average is 5.333333333333333\n"
          ]
        }
      ]
    },
    {
      "cell_type": "markdown",
      "source": [
        "**Program to print the sum and average of three numbers**"
      ],
      "metadata": {
        "id": "7oC929Taeogg"
      }
    },
    {
      "cell_type": "code",
      "source": [
        "a=int(input(\"Enter first numbers : \"))\n",
        "b=int(input(\"Enter second number : \"))\n",
        "c=int(input(\"Enter third number  : \"))\n",
        "sum=a+b+c\n",
        "avg=sum/3\n",
        "print(\"Sum is\",sum,\"and average is\",avg)"
      ],
      "metadata": {
        "colab": {
          "base_uri": "https://localhost:8080/"
        },
        "id": "Fk33st78ev5m",
        "outputId": "161717b9-4864-47a6-b3f9-3cebca164f1e"
      },
      "execution_count": 16,
      "outputs": [
        {
          "output_type": "stream",
          "name": "stdout",
          "text": [
            "Enter first numbers : 5\n",
            "Enter second number : 8\n",
            "Enter third number  : 6\n",
            "Sum is 19 and average is 6.333333333333333\n"
          ]
        }
      ]
    },
    {
      "cell_type": "markdown",
      "source": [
        "**Program to convert time entered in seconds to time in hours minutes and seconds**"
      ],
      "metadata": {
        "id": "L7qalwJ2fWO0"
      }
    },
    {
      "cell_type": "code",
      "source": [
        "time=int(input(\"Enter time in seconds \"))\n",
        "minutes=time//60\n",
        "seconds=time%60\n",
        "hours=minutes//60\n",
        "minutes=minutes%60\n",
        "print(\"The time is\",hours,\"hours\",minutes,\"minutes and\",seconds,\"seconds\")"
      ],
      "metadata": {
        "colab": {
          "base_uri": "https://localhost:8080/"
        },
        "id": "a98d3n9CfgJU",
        "outputId": "5c3f23df-bd8c-49ca-8c8b-e7801878887d"
      },
      "execution_count": 23,
      "outputs": [
        {
          "output_type": "stream",
          "name": "stdout",
          "text": [
            "Enter time in seconds 3666\n",
            "The time is 1 hours 1 minutes and 6 seconds\n"
          ]
        }
      ]
    },
    {
      "cell_type": "markdown",
      "source": [
        "**Program to find the area and perimeter of a triangle**"
      ],
      "metadata": {
        "id": "MdaUmSTPgkHE"
      }
    },
    {
      "cell_type": "code",
      "source": [
        "a=int(input(\"Enter the length of the first side \"))\n",
        "b=int(input(\"Enter the length of the second side \"))\n",
        "c=int(input(\"Enter the length of the third side \"))\n",
        "import math\n",
        "perimeter=a+b+c\n",
        "s=perimeter/2\n",
        "area=math.sqrt(s*(s-a)*(s-b)*(s-c))\n",
        "print(\"The perimeter is\",perimeter,\"and area is\",area)"
      ],
      "metadata": {
        "colab": {
          "base_uri": "https://localhost:8080/"
        },
        "id": "avcXa58ugwrF",
        "outputId": "416f8bca-3704-49b7-dbee-03f10cc66b9f"
      },
      "execution_count": 26,
      "outputs": [
        {
          "output_type": "stream",
          "name": "stdout",
          "text": [
            "Enter the length of the first side 5\n",
            "Enter the length of the second side 8\n",
            "Enter the length of the third side 6\n",
            "The perimeter is 19 and area is 14.981238266578634\n"
          ]
        }
      ]
    },
    {
      "cell_type": "markdown",
      "source": [
        "**Program to print the area of a circle**"
      ],
      "metadata": {
        "id": "8fqmQwShiMer"
      }
    },
    {
      "cell_type": "code",
      "source": [
        "radius=int(input(\"Enter radius of the circle \"))\n",
        "pi=22/7 #22/7=pi value\n",
        "area=pi*radius*radius\n",
        "print(\"The area is\",area)"
      ],
      "metadata": {
        "colab": {
          "base_uri": "https://localhost:8080/"
        },
        "id": "QpQ5gKRciSlF",
        "outputId": "6ac381ef-9d24-40df-ab2e-079e5502bb63"
      },
      "execution_count": 28,
      "outputs": [
        {
          "output_type": "stream",
          "name": "stdout",
          "text": [
            "Enter radius of the circle 1\n",
            "The area is 3.142857142857143\n"
          ]
        }
      ]
    },
    {
      "cell_type": "markdown",
      "source": [
        "**Program to interchange two variables without the use of a temporary variable**"
      ],
      "metadata": {
        "id": "yzL4UByZi0MI"
      }
    },
    {
      "cell_type": "code",
      "source": [
        "a=int(input(\"Enter a number \"))\n",
        "b=int(input(\"Enter another number\"))\n",
        "print(\"Currently\")\n",
        "print(\"a =\",a)\n",
        "print(\"b =\",b)\n",
        "a=a+b\n",
        "b=a-b\n",
        "a=a-b\n",
        "print(\"After swap\")\n",
        "print(\"a =\",a)\n",
        "print(\"b =\",b)"
      ],
      "metadata": {
        "colab": {
          "base_uri": "https://localhost:8080/"
        },
        "id": "XyxwkNVMi_OD",
        "outputId": "45efc171-f5ee-41e6-e046-48c7403cb9a2"
      },
      "execution_count": 30,
      "outputs": [
        {
          "output_type": "stream",
          "name": "stdout",
          "text": [
            "Enter a number 5\n",
            "Enter another number10\n",
            "Currently\n",
            "a = 5\n",
            "b = 10\n",
            "After swap\n",
            "a = 10\n",
            "b = 5\n"
          ]
        }
      ]
    },
    {
      "cell_type": "markdown",
      "source": [
        "**Program to print sum,difference,product,quotient and remainder of two numbers**"
      ],
      "metadata": {
        "id": "GgEW1O3gkdFV"
      }
    },
    {
      "cell_type": "code",
      "source": [
        "a=int(input(\"Enter a number \"))\n",
        "b=int(input(\"Enter another \"))\n",
        "sum=a+b\n",
        "diff=a-b\n",
        "pro=a*b\n",
        "quo=a//b\n",
        "rem=a%b\n",
        "print(\"sum =\",sum)\n",
        "print(\"differnce =\",diff)\n",
        "print(\"product =\",pro)\n",
        "print(\"quotient\",quo)\n",
        "print(\"remainder =\",rem)"
      ],
      "metadata": {
        "colab": {
          "base_uri": "https://localhost:8080/"
        },
        "id": "I-CXHEzkkt_8",
        "outputId": "294b1954-5173-4306-eed2-6b632354e8cd"
      },
      "execution_count": 31,
      "outputs": [
        {
          "output_type": "stream",
          "name": "stdout",
          "text": [
            "Enter a number 5\n",
            "Enter another 6\n",
            "sum = 11\n",
            "differnce = -1\n",
            "product = 30\n",
            "quotient 0\n",
            "remainder = 5\n"
          ]
        }
      ]
    },
    {
      "cell_type": "markdown",
      "source": [
        "**Program to convert days entered into years months and days**"
      ],
      "metadata": {
        "id": "9IxkvSj4ldXm"
      }
    },
    {
      "cell_type": "code",
      "source": [
        "time=int(input(\"Enter the number of days \"))\n",
        "months=time//30\n",
        "days=time%30\n",
        "years=months//12\n",
        "months=months%12\n",
        "print(years,\"Years\",months,\"months and\",days,\"days\")"
      ],
      "metadata": {
        "colab": {
          "base_uri": "https://localhost:8080/"
        },
        "id": "8XzZDi4Ylk0u",
        "outputId": "b4e0be00-73bb-4ec0-ce91-076090dce50c"
      },
      "execution_count": 34,
      "outputs": [
        {
          "output_type": "stream",
          "name": "stdout",
          "text": [
            "Enter the number of days 395\n",
            "1 Years 1 months and 5 days\n"
          ]
        }
      ]
    }
  ]
}