{
  "nbformat": 4,
  "nbformat_minor": 0,
  "metadata": {
    "colab": {
      "name": "assignment_iterative.ipynb",
      "provenance": []
    },
    "kernelspec": {
      "name": "python3",
      "display_name": "Python 3"
    },
    "language_info": {
      "name": "python"
    }
  },
  "cells": [
    {
      "cell_type": "code",
      "execution_count": 5,
      "metadata": {
        "colab": {
          "base_uri": "https://localhost:8080/"
        },
        "id": "EtooNfULPX75",
        "outputId": "170b54cf-4e22-46be-d018-1184581cc06d"
      },
      "outputs": [
        {
          "output_type": "stream",
          "name": "stdout",
          "text": [
            "Enter a number : 854\n",
            "reverse of the number : 458\n"
          ]
        }
      ],
      "source": [
        "a=int(input(\"Enter a number : \"))\n",
        "reverse=0\n",
        "while a!=0:\n",
        "  s=a%10\n",
        "  reverse=reverse*10+s\n",
        "  a=a//10\n",
        "print('reverse of the number :',reverse)"
      ]
    },
    {
      "cell_type": "code",
      "source": [
        "a=int(input(\"Enter a number : \"))\n",
        "sum=0\n",
        "for i in range(1,a+1):\n",
        "  sum=sum+i\n",
        "print(sum)"
      ],
      "metadata": {
        "colab": {
          "base_uri": "https://localhost:8080/"
        },
        "id": "8sqDigIQQlqj",
        "outputId": "ef166ab3-523e-4d63-f390-7c7b505746db"
      },
      "execution_count": 10,
      "outputs": [
        {
          "output_type": "stream",
          "name": "stdout",
          "text": [
            "Enter a number : 5\n",
            "15\n"
          ]
        }
      ]
    },
    {
      "cell_type": "code",
      "source": [
        "a=int(input(\"Enter a number : \"))\n",
        "sum=a\n",
        "factor=1\n",
        "while factor<=a//2:\n",
        "  if a%factor==0:\n",
        "    sum=sum+factor\n",
        "  factor=factor+1\n",
        "print(\"Sum of factors :\",sum)\n"
      ],
      "metadata": {
        "colab": {
          "base_uri": "https://localhost:8080/"
        },
        "id": "1RYc0V1YQ-7C",
        "outputId": "fb43659e-5f46-4e9b-cc26-070181db401d"
      },
      "execution_count": 30,
      "outputs": [
        {
          "output_type": "stream",
          "name": "stdout",
          "text": [
            "Enter a number : 25\n",
            "Sum of factors : 31\n"
          ]
        }
      ]
    },
    {
      "cell_type": "code",
      "source": [
        "a=int(input(\"Enter a first number in the series : \"))\n",
        "d=int(input(\"Enter the common differnce : \"))\n",
        "n=int(input(\"Enter the number : \"))\n",
        "print(a)\n",
        "for i in range(2,n):\n",
        "  a=a+d\n",
        "  print(a)"
      ],
      "metadata": {
        "colab": {
          "base_uri": "https://localhost:8080/"
        },
        "id": "g4Gxv_0ZTyVc",
        "outputId": "33023ff0-b981-412a-cedf-a521f4b03ada"
      },
      "execution_count": 31,
      "outputs": [
        {
          "output_type": "stream",
          "name": "stdout",
          "text": [
            "Enter a first number in the series : 1\n",
            "Enter the common differnce : 5\n",
            "Enter the number : 5\n",
            "1\n",
            "6\n",
            "11\n",
            "16\n"
          ]
        }
      ]
    },
    {
      "cell_type": "code",
      "source": [
        "n=int(input(\"Enter a number : \"))\n",
        "a=0\n",
        "b=1\n",
        "print(a)\n",
        "for i in range(1,n):\n",
        "  print(b)\n",
        "  t=b\n",
        "  b=a+b\n",
        "  a=t"
      ],
      "metadata": {
        "colab": {
          "base_uri": "https://localhost:8080/"
        },
        "id": "XB4yW41ZUbAL",
        "outputId": "d56e1320-3740-40b4-ad5b-5753ab96a363"
      },
      "execution_count": 33,
      "outputs": [
        {
          "output_type": "stream",
          "name": "stdout",
          "text": [
            "Enter a number : 10\n",
            "0\n",
            "1\n",
            "1\n",
            "2\n",
            "3\n",
            "5\n",
            "8\n",
            "13\n",
            "21\n",
            "34\n"
          ]
        }
      ]
    },
    {
      "cell_type": "code",
      "source": [
        "a=int(input(\"Enter a number : \"))\n",
        "backup=a\n",
        "reverse=0\n",
        "while a!=0:\n",
        "  s=a%10\n",
        "  reverse=reverse*10+s\n",
        "  a=a//10\n",
        "if backup==reverse:\n",
        "  print(\"The number is palindrome\")\n",
        "else:\n",
        "  print(\"The number is not palindrome\")"
      ],
      "metadata": {
        "colab": {
          "base_uri": "https://localhost:8080/"
        },
        "id": "T7GKISXjU6ua",
        "outputId": "3e90f284-dd3e-4a06-a631-6eaa2ce05c1f"
      },
      "execution_count": 42,
      "outputs": [
        {
          "output_type": "stream",
          "name": "stdout",
          "text": [
            "Enter a number : 458\n",
            "The number is not palindrome\n"
          ]
        }
      ]
    },
    {
      "cell_type": "code",
      "source": [
        "import math\n",
        "a=int(input(\"Enter a number : \"))\n",
        "backup=a\n",
        "n=0\n",
        "while a!=0:\n",
        "  a=a//10\n",
        "  n=n+1\n",
        "a=backup\n",
        "sum=0\n",
        "while a!=0:\n",
        "  digit=a%10\n",
        "  a=a//10\n",
        "  raised_digit=math.pow(digit,n)\n",
        "  sum=sum+raised_digit\n",
        "if sum==backup:\n",
        "  print(\"The number is armstrong \")\n",
        "else:\n",
        "  print(\"The number is not armstrong\")  "
      ],
      "metadata": {
        "colab": {
          "base_uri": "https://localhost:8080/"
        },
        "id": "W-Ox5OFzWCso",
        "outputId": "a5a0cf2d-eec5-4e1d-db4b-0214563765f3"
      },
      "execution_count": 45,
      "outputs": [
        {
          "output_type": "stream",
          "name": "stdout",
          "text": [
            "Enter a number : 1634\n",
            "The number is armstrong \n"
          ]
        }
      ]
    },
    {
      "cell_type": "code",
      "source": [
        "a=int(input(\"Enter a number : \"))\n",
        "n=int(input(\"Enter power : \"))\n",
        "power=1\n",
        "for i in range(1,n+1):\n",
        "  power=power*a\n",
        "print(power)"
      ],
      "metadata": {
        "colab": {
          "base_uri": "https://localhost:8080/"
        },
        "id": "ZX7PI9D6XyDD",
        "outputId": "48aa74d2-ac3e-4c53-ef7b-6e678c1734d6"
      },
      "execution_count": 49,
      "outputs": [
        {
          "output_type": "stream",
          "name": "stdout",
          "text": [
            "Enter a number : 2\n",
            "Enter power : 10\n",
            "1024\n"
          ]
        }
      ]
    },
    {
      "cell_type": "code",
      "source": [
        "a=1\n",
        "n=int(input(\"Enter the number : \"))\n",
        "print(a)\n",
        "for i in range(2,n):\n",
        "  a=a+2\n",
        "  print(a)"
      ],
      "metadata": {
        "colab": {
          "base_uri": "https://localhost:8080/"
        },
        "id": "aMYlOaFhYNrh",
        "outputId": "9171cd65-fda1-4a80-e1de-dec547f32223"
      },
      "execution_count": 51,
      "outputs": [
        {
          "output_type": "stream",
          "name": "stdout",
          "text": [
            "Enter the number : 5\n",
            "1\n",
            "3\n",
            "5\n",
            "7\n"
          ]
        }
      ]
    },
    {
      "cell_type": "code",
      "source": [
        "a=int(input(\"Enter a number : \"))\n",
        "b=int(input(\"Enter another number : \"))\n",
        "if a>b:\n",
        "  i=b\n",
        "else:\n",
        "  i=a\n",
        "gcd=0\n",
        "while gcd==0:\n",
        "  if a%i==0 and b%i==0:\n",
        "    gcd=i\n",
        "  i=i-1\n",
        "print(\"Enter gcd of two numbers\",gcd)\n"
      ],
      "metadata": {
        "colab": {
          "base_uri": "https://localhost:8080/"
        },
        "id": "fBOJmJDEYb6B",
        "outputId": "46b34078-62a1-4821-b5b1-897b47a45ed2"
      },
      "execution_count": 54,
      "outputs": [
        {
          "output_type": "stream",
          "name": "stdout",
          "text": [
            "Enter a number : 80\n",
            "Enter another number : 60\n",
            "Enter gcd of two numbers 20\n"
          ]
        }
      ]
    },
    {
      "cell_type": "code",
      "source": [
        "a=int(input(\"Enter a number : \"))\n",
        "for i in range(1,a):\n",
        "  a=a*i\n",
        "print(a)"
      ],
      "metadata": {
        "colab": {
          "base_uri": "https://localhost:8080/"
        },
        "id": "5-vN_MSRZuQ_",
        "outputId": "b91ecc81-a5b1-4ae5-ba94-7f33d58b1a92"
      },
      "execution_count": 59,
      "outputs": [
        {
          "output_type": "stream",
          "name": "stdout",
          "text": [
            "Enter a number : 4\n",
            "24\n"
          ]
        }
      ]
    },
    {
      "cell_type": "code",
      "source": [
        "a=int(input(\"Enter a number : \"))\n",
        "b=int(input(\"Enter another number : \"))\n",
        "if a>b:\n",
        "  start=b\n",
        "  stop=a\n",
        "else:\n",
        "  start=a\n",
        "  stop=b\n",
        "for i in range(start,stop+1):\n",
        "  print(i*i)"
      ],
      "metadata": {
        "colab": {
          "base_uri": "https://localhost:8080/"
        },
        "id": "ofopNRWwaIQv",
        "outputId": "f2e91c2a-e841-414f-d7dd-9a431b487542"
      },
      "execution_count": 62,
      "outputs": [
        {
          "output_type": "stream",
          "name": "stdout",
          "text": [
            "Enter a number : 5\n",
            "Enter another number : 10\n",
            "25\n",
            "36\n",
            "49\n",
            "64\n",
            "81\n",
            "100\n"
          ]
        }
      ]
    },
    {
      "cell_type": "code",
      "source": [
        "n=int(input(\"Enter a number : \"))\n",
        "a=1\n",
        "b=2\n",
        "for i in range(1,n):\n",
        "  print(b*b-a*a)\n",
        "  a=a+2\n",
        "  b=b+2\n"
      ],
      "metadata": {
        "colab": {
          "base_uri": "https://localhost:8080/"
        },
        "id": "HHZHAP4kayCW",
        "outputId": "7815ade5-93ee-4f6f-bf22-a589eb5aec28"
      },
      "execution_count": 63,
      "outputs": [
        {
          "output_type": "stream",
          "name": "stdout",
          "text": [
            "Enter a number : 5\n",
            "3\n",
            "7\n",
            "11\n",
            "15\n"
          ]
        }
      ]
    },
    {
      "cell_type": "code",
      "source": [
        "a=int(input(\"Enter a number : \"))\n",
        "square=a*a\n",
        "stop=0\n",
        "while stop==0:\n",
        "  digit1=a%10\n",
        "  digit2=square%10\n",
        "  if digit1 != digit2:\n",
        "    stop=1\n",
        "  if a==0:\n",
        "    stop=2\n",
        "  a=a//10\n",
        "  square=square//10\n",
        "if stop==2:\n",
        "  print(\"The number is automorphic\")\n",
        "else:\n",
        "  print(\"The number is not automorphic\")"
      ],
      "metadata": {
        "colab": {
          "base_uri": "https://localhost:8080/"
        },
        "id": "hiKXU_5TbQjh",
        "outputId": "39ff594c-ae5f-4f08-cb64-00083f508265"
      },
      "execution_count": 76,
      "outputs": [
        {
          "output_type": "stream",
          "name": "stdout",
          "text": [
            "Enter a number : 25\n",
            "The number is automorphic\n"
          ]
        }
      ]
    }
  ]
}