{
  "nbformat": 4,
  "nbformat_minor": 0,
  "metadata": {
    "colab": {
      "name": "assignment.ipynb",
      "provenance": []
    },
    "kernelspec": {
      "name": "python3",
      "display_name": "Python 3"
    },
    "language_info": {
      "name": "python"
    }
  },
  "cells": [
    {
      "cell_type": "code",
      "execution_count": 1,
      "metadata": {
        "colab": {
          "base_uri": "https://localhost:8080/"
        },
        "id": "iYPqy2KOJFu6",
        "outputId": "eede602f-1262-4049-f7c0-562862f80c99"
      },
      "outputs": [
        {
          "output_type": "stream",
          "name": "stdout",
          "text": [
            "Enter a numebr : 5\n",
            "Enter another number : 10\n",
            "10  is larger\n"
          ]
        }
      ],
      "source": [
        "#Program to find largest of two numbers\n",
        "A=int(input(\"Enter a numeber : \"))\n",
        "B=int(input(\"Enter another number : \"))\n",
        "if A>B:\n",
        "  print(A,\" is larger\")\n",
        "else:\n",
        "  print(B,\" is larger\")"
      ]
    },
    {
      "cell_type": "code",
      "source": [
        "#Program to find smallest of three numbers\n",
        "A=int(input(\"Enter first numeber : \"))\n",
        "B=int(input(\"Enter second number : \"))\n",
        "C=int(input(\"Enter third number : \"))\n",
        "if(A>B) and (A>C):\n",
        "  print(A,\" is larger\")\n",
        "elif (B>C):\n",
        "  print(B,\" is larger\")\n",
        "else:\n",
        "  print(C,\" is larger\")"
      ],
      "metadata": {
        "colab": {
          "base_uri": "https://localhost:8080/"
        },
        "id": "1JQ0Rf1QKJTa",
        "outputId": "5984f56f-a864-4aeb-e5d5-63a4fbc18c99"
      },
      "execution_count": 4,
      "outputs": [
        {
          "output_type": "stream",
          "name": "stdout",
          "text": [
            "Enter first numeber : 15\n",
            "Enter second number : 10\n",
            "Enter third number : 5\n",
            "15  is larger\n"
          ]
        }
      ]
    },
    {
      "cell_type": "code",
      "source": [
        "#Program to check if a number is two digit or not\n",
        "A=int(input(\"Enter a number : \"))\n",
        "if A>9 and A<100:\n",
        "  print(A,\" is a two digit number\")\n",
        "else:\n",
        "  print(A,\"is not a two digit number\")"
      ],
      "metadata": {
        "colab": {
          "base_uri": "https://localhost:8080/"
        },
        "id": "xO1GK78IK9ll",
        "outputId": "3093f1e4-f117-4367-9a79-166c82d831f1"
      },
      "execution_count": 8,
      "outputs": [
        {
          "output_type": "stream",
          "name": "stdout",
          "text": [
            "Enter a number : 100\n",
            "100 is not a two digit number\n"
          ]
        }
      ]
    },
    {
      "cell_type": "code",
      "source": [
        "A=int(input(\"Enter a number : \"))\n",
        "if A>9 and A<100:\n",
        "  B=A%10\n",
        "  C=A//10\n",
        "  if B>C:\n",
        "    print(B,\" is larger\")\n",
        "  else:\n",
        "    print(C,\"larger\")\n",
        "else:\n",
        "  print(A,\"is not a two digit number\")\n"
      ],
      "metadata": {
        "colab": {
          "base_uri": "https://localhost:8080/"
        },
        "id": "JJKcjQKgLmiV",
        "outputId": "71470be3-1f3b-4037-a6a2-b7f38dcb6404"
      },
      "execution_count": 13,
      "outputs": [
        {
          "output_type": "stream",
          "name": "stdout",
          "text": [
            "Enter a number : 100\n",
            "100 is not a two digit number\n"
          ]
        }
      ]
    },
    {
      "cell_type": "code",
      "source": [
        "A=int(input(\"Enter first numeber : \"))\n",
        "B=int(input(\"Enter second number : \"))\n",
        "if A%B==0:\n",
        "  print(B,\"is a multiple of\",A)\n",
        "elif B%A==0:\n",
        "  print(A,\"is a multiple of\",B)\n",
        "else:\n",
        "  print('The numbers are not mutliples of each other')"
      ],
      "metadata": {
        "colab": {
          "base_uri": "https://localhost:8080/"
        },
        "id": "f8O0fVOZMbQk",
        "outputId": "69fa4669-47a2-4406-a1ad-5ccb1d8e340c"
      },
      "execution_count": 17,
      "outputs": [
        {
          "output_type": "stream",
          "name": "stdout",
          "text": [
            "Enter first numeber : 90\n",
            "Enter second number : 254\n",
            "The numbers are not mutliples of each other\n"
          ]
        }
      ]
    },
    {
      "cell_type": "code",
      "source": [
        "A=int(input(\"Enter first numeber : \"))\n",
        "if A>0:\n",
        "  print('The number is postive')\n",
        "elif A<0:\n",
        "  print('The number is negative')\n",
        "else:\n",
        "  print('The number is zero')"
      ],
      "metadata": {
        "colab": {
          "base_uri": "https://localhost:8080/"
        },
        "id": "AblntZN3NK5S",
        "outputId": "8ed3230a-b58a-4381-a7b5-6079899ccf10"
      },
      "execution_count": 20,
      "outputs": [
        {
          "output_type": "stream",
          "name": "stdout",
          "text": [
            "Enter first numeber : 0\n",
            "The number is zero\n"
          ]
        }
      ]
    },
    {
      "cell_type": "code",
      "source": [
        "A=int(input(\"Enter first point : \"))\n",
        "B=int(input(\"Enter second point : \"))\n",
        "if A>=B:\n",
        "  print('distance',A-B)\n",
        "else:\n",
        "  print('distance',B-A)"
      ],
      "metadata": {
        "colab": {
          "base_uri": "https://localhost:8080/"
        },
        "id": "etARoAWnNlgI",
        "outputId": "4e2389fb-ab79-4605-cf6c-3f75cb7957ad"
      },
      "execution_count": 23,
      "outputs": [
        {
          "output_type": "stream",
          "name": "stdout",
          "text": [
            "Enter first point : 80\n",
            "Enter second point : 100\n",
            "distance 20\n"
          ]
        }
      ]
    },
    {
      "cell_type": "code",
      "source": [
        "b=int(input('Enter b:'))\n",
        "a=int(input('Enter c:'))\n",
        "c=int(input('Enter a:'))\n",
        "A=b*b-4*a*c\n",
        "if A>0:\n",
        "  print('The eqn has two real solution')\n",
        "elif A<0:\n",
        "  print('The eqn has no real solution')\n",
        "else:\n",
        "  print('The eqn has only one real solution')"
      ],
      "metadata": {
        "colab": {
          "base_uri": "https://localhost:8080/"
        },
        "id": "oEVbjUinOS9Z",
        "outputId": "6cca2154-9e74-4596-8d88-0b83ac80b7d5"
      },
      "execution_count": 24,
      "outputs": [
        {
          "output_type": "stream",
          "name": "stdout",
          "text": [
            "Enter b:6\n",
            "Enter c:6\n",
            "Enter a:2\n",
            "The eqn has no real solution\n"
          ]
        }
      ]
    },
    {
      "cell_type": "code",
      "source": [
        ""
      ],
      "metadata": {
        "id": "z9y_wAsGPAII"
      },
      "execution_count": null,
      "outputs": []
    }
  ]
}